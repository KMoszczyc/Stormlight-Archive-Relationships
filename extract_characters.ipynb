{
 "cells": [
  {
   "cell_type": "code",
   "execution_count": 80,
   "metadata": {},
   "outputs": [],
   "source": [
    "import pandas as pd \n",
    "import time\n",
    "from selenium import webdriver\n",
    "from webdriver_manager.chrome import ChromeDriverManager\n",
    "import matplotlib.pyplot as plt\n",
    "from selenium.webdriver.common.by import By\n",
    "from selenium.common.exceptions import NoSuchElementException\n"
   ]
  },
  {
   "cell_type": "code",
   "execution_count": 81,
   "metadata": {},
   "outputs": [
    {
     "name": "stdout",
     "output_type": "stream",
     "text": [
      "\n"
     ]
    },
    {
     "name": "stderr",
     "output_type": "stream",
     "text": [
      "[WDM] - ====== WebDriver manager ======\n",
      "[WDM] - Current google-chrome version is 103.0.5060\n",
      "[WDM] - Get LATEST chromedriver version for 103.0.5060 google-chrome\n",
      "[WDM] - Driver [C:\\Users\\The God of Cringe\\.wdm\\drivers\\chromedriver\\win32\\103.0.5060.53\\chromedriver.exe] found in cache\n",
      "C:\\Users\\The God of Cringe\\AppData\\Local\\Temp\\ipykernel_17384\\1503906442.py:1: DeprecationWarning: executable_path has been deprecated, please pass in a Service object\n",
      "  driver = webdriver.Chrome(ChromeDriverManager().install())\n"
     ]
    }
   ],
   "source": [
    "driver = webdriver.Chrome(ChromeDriverManager().install())"
   ]
  },
  {
   "cell_type": "code",
   "execution_count": 82,
   "metadata": {},
   "outputs": [],
   "source": [
    "page_url = 'https://stormlightarchive.fandom.com/wiki/Category:Characters'\n",
    "driver.get(page_url)"
   ]
  },
  {
   "cell_type": "code",
   "execution_count": 83,
   "metadata": {},
   "outputs": [],
   "source": [
    "# Cookies\n",
    "accept_button = driver.find_element(By.XPATH, '//div[text()=\"ACCEPT\"]').click()\n",
    "time.sleep(1)"
   ]
  },
  {
   "cell_type": "markdown",
   "metadata": {},
   "source": [
    "# Find books"
   ]
  },
  {
   "cell_type": "code",
   "execution_count": 84,
   "metadata": {},
   "outputs": [],
   "source": [
    "def find_element_decorator(func):\n",
    "    def function_wrapper(*args):\n",
    "        try:\n",
    "            elem = func(*args)\n",
    "            return elem\n",
    "        except NoSuchElementException:\n",
    "            return None\n",
    "    return function_wrapper\n",
    "\n",
    "@find_element_decorator\n",
    "def find_elem(elem, by, value):\n",
    "    out_elem = elem.find_element(by, value)\n",
    "    return out_elem\n",
    "\n",
    "\n",
    "@find_element_decorator\n",
    "def find_click_element(elem, by, value):\n",
    "    out_elem = elem.find_element(by, value).click()\n",
    "    return out_elem\n",
    "\n",
    "def click_elem(elem):\n",
    "    try:\n",
    "        driver.execute_script(\"arguments[0].click();\", elem)\n",
    "    except NoSuchElementException:\n",
    "        pass"
   ]
  },
  {
   "cell_type": "code",
   "execution_count": 85,
   "metadata": {},
   "outputs": [
    {
     "name": "stdout",
     "output_type": "stream",
     "text": [
      "<selenium.webdriver.remote.webelement.WebElement (session=\"306e1381203dfc1b67adb2fbdd78f842\", element=\"fd56c667-d74d-4143-847b-9f30f9a993ff\")>\n",
      "Category:17th Shard https://stormlightarchive.fandom.com/wiki/Category:17th_Shard\n",
      "Abrial https://stormlightarchive.fandom.com/wiki/Abrial\n",
      "Abrobadar https://stormlightarchive.fandom.com/wiki/Abrobadar\n",
      "Abronai https://stormlightarchive.fandom.com/wiki/Abronai\n",
      "Adis https://stormlightarchive.fandom.com/wiki/Adis\n",
      "Adolin Kholin https://stormlightarchive.fandom.com/wiki/Adolin_Kholin\n",
      "Adrotagia https://stormlightarchive.fandom.com/wiki/Adrotagia\n",
      "Aesudan Kholin https://stormlightarchive.fandom.com/wiki/Aesudan_Kholin\n",
      "Aharat https://stormlightarchive.fandom.com/wiki/Aharat\n",
      "Ahu https://stormlightarchive.fandom.com/wiki/Ahu\n",
      "Jezrien\n",
      "Ala https://stormlightarchive.fandom.com/wiki/Ala\n",
      "Alabet https://stormlightarchive.fandom.com/wiki/Alabet\n",
      "Aladar https://stormlightarchive.fandom.com/wiki/Aladar\n",
      "Alakavish https://stormlightarchive.fandom.com/wiki/Alakavish\n",
      "Alaward https://stormlightarchive.fandom.com/wiki/Alaward\n",
      "Alds https://stormlightarchive.fandom.com/wiki/Alds\n",
      "Ali-daughter-Hasweth https://stormlightarchive.fandom.com/wiki/Ali-daughter-Hasweth\n",
      "Alim https://stormlightarchive.fandom.com/wiki/Alim\n",
      "Allahn https://stormlightarchive.fandom.com/wiki/Allahn\n",
      "Almighty https://stormlightarchive.fandom.com/wiki/Almighty\n",
      "Honor, Tanavast\n",
      "Altoki https://stormlightarchive.fandom.com/wiki/Altoki\n",
      "Amaram's Cook https://stormlightarchive.fandom.com/wiki/Amaram%27s_Cook\n",
      "Amark https://stormlightarchive.fandom.com/wiki/Amark\n",
      "Apara https://stormlightarchive.fandom.com/wiki/Apara\n",
      "Apothecary https://stormlightarchive.fandom.com/wiki/Apothecary\n",
      "Aratin Khal https://stormlightarchive.fandom.com/wiki/Aratin_Khal\n",
      "Arclo https://stormlightarchive.fandom.com/wiki/Arclo\n",
      "Ardent of Hornhollow https://stormlightarchive.fandom.com/wiki/Ardent_of_Hornhollow\n",
      "Aric https://stormlightarchive.fandom.com/wiki/Aric\n",
      "Arik https://stormlightarchive.fandom.com/wiki/Arik\n",
      "Aronack https://stormlightarchive.fandom.com/wiki/Aronack\n",
      "Arshqqam https://stormlightarchive.fandom.com/wiki/Arshqqam\n",
      "The Stump\n",
      "Arshqqam's Spren https://stormlightarchive.fandom.com/wiki/Arshqqam%27s_Spren\n",
      "Artmyrn https://stormlightarchive.fandom.com/wiki/Artmyrn\n",
      "Artmyrn's wife https://stormlightarchive.fandom.com/wiki/Artmyrn%27s_wife\n",
      "Ashelem https://stormlightarchive.fandom.com/wiki/Ashelem\n",
      "Ashertmarn https://stormlightarchive.fandom.com/wiki/Ashertmarn\n",
      "Heart of the Revel\n",
      "Ashir https://stormlightarchive.fandom.com/wiki/Ashir\n",
      "Ashlv https://stormlightarchive.fandom.com/wiki/Ashlv\n",
      "Ashno of Sages https://stormlightarchive.fandom.com/wiki/Ashno_of_Sages\n",
      "Aslydin https://stormlightarchive.fandom.com/wiki/Aslydin\n",
      "Au-lam https://stormlightarchive.fandom.com/wiki/Au-lam\n",
      "Au-nak https://stormlightarchive.fandom.com/wiki/Au-nak\n",
      "Auxiliary https://stormlightarchive.fandom.com/wiki/Auxiliary\n",
      "Av https://stormlightarchive.fandom.com/wiki/Av\n",
      "Avado https://stormlightarchive.fandom.com/wiki/Avado\n",
      "Avaran https://stormlightarchive.fandom.com/wiki/Avaran\n",
      "Avena https://stormlightarchive.fandom.com/wiki/Avena\n",
      "Axies the Collector https://stormlightarchive.fandom.com/wiki/Axies_the_Collector\n",
      "Axindweth https://stormlightarchive.fandom.com/wiki/Axindweth\n"
     ]
    },
    {
     "ename": "WebDriverException",
     "evalue": "Message: unknown error: cannot determine loading status\nfrom unknown error: unexpected command response\n  (Session info: chrome=103.0.5060.66)\nStacktrace:\nBacktrace:\n\tOrdinal0 [0x00EC6463+2188387]\n\tOrdinal0 [0x00E5E461+1762401]\n\tOrdinal0 [0x00D73D78+802168]\n\tOrdinal0 [0x00D67210+750096]\n\tOrdinal0 [0x00D6675A+747354]\n\tOrdinal0 [0x00D65D3F+744767]\n\tOrdinal0 [0x00D64C28+740392]\n\tOrdinal0 [0x00D65228+741928]\n\tOrdinal0 [0x00D6EF2F+782127]\n\tOrdinal0 [0x00D79FBB+827323]\n\tOrdinal0 [0x00D7D310+840464]\n\tOrdinal0 [0x00D654F6+742646]\n\tOrdinal0 [0x00D79BF3+826355]\n\tOrdinal0 [0x00DCCF6D+1167213]\n\tOrdinal0 [0x00DBC5F6+1099254]\n\tOrdinal0 [0x00D96BE0+945120]\n\tOrdinal0 [0x00D97AD6+948950]\n\tGetHandleVerifier [0x011671F2+2712546]\n\tGetHandleVerifier [0x0115886D+2652765]\n\tGetHandleVerifier [0x00F5002A+520730]\n\tGetHandleVerifier [0x00F4EE06+516086]\n\tOrdinal0 [0x00E6468B+1787531]\n\tOrdinal0 [0x00E68E88+1805960]\n\tOrdinal0 [0x00E68F75+1806197]\n\tOrdinal0 [0x00E71DF1+1842673]\n\tBaseThreadInitThunk [0x76047BA9+25]\n\tRtlInitializeExceptionChain [0x7705B7DB+107]\n\tRtlClearBits [0x7705B75F+191]\n",
     "output_type": "error",
     "traceback": [
      "\u001b[1;31m---------------------------------------------------------------------------\u001b[0m",
      "\u001b[1;31mWebDriverException\u001b[0m                        Traceback (most recent call last)",
      "\u001b[1;32mc:\\Users\\The God of Cringe\\Desktop\\Python\\Stormlight Archive Relationships\\extract_characters.ipynb Cell 7'\u001b[0m in \u001b[0;36m<cell line: 5>\u001b[1;34m()\u001b[0m\n\u001b[0;32m     <a href='vscode-notebook-cell:/c%3A/Users/The%20God%20of%20Cringe/Desktop/Python/Stormlight%20Archive%20Relationships/extract_characters.ipynb#ch0000006?line=11'>12</a>\u001b[0m \u001b[39mif\u001b[39;00m \u001b[39mnot\u001b[39;00m \u001b[39m'\u001b[39m\u001b[39mcategory\u001b[39m\u001b[39m'\u001b[39m \u001b[39min\u001b[39;00m character_names[i]:\n\u001b[0;32m     <a href='vscode-notebook-cell:/c%3A/Users/The%20God%20of%20Cringe/Desktop/Python/Stormlight%20Archive%20Relationships/extract_characters.ipynb#ch0000006?line=12'>13</a>\u001b[0m     time\u001b[39m.\u001b[39msleep(\u001b[39m2\u001b[39m)\n\u001b[1;32m---> <a href='vscode-notebook-cell:/c%3A/Users/The%20God%20of%20Cringe/Desktop/Python/Stormlight%20Archive%20Relationships/extract_characters.ipynb#ch0000006?line=13'>14</a>\u001b[0m     driver\u001b[39m.\u001b[39;49mget(url)\n\u001b[0;32m     <a href='vscode-notebook-cell:/c%3A/Users/The%20God%20of%20Cringe/Desktop/Python/Stormlight%20Archive%20Relationships/extract_characters.ipynb#ch0000006?line=14'>15</a>\u001b[0m     time\u001b[39m.\u001b[39msleep(\u001b[39m2\u001b[39m)\n\u001b[0;32m     <a href='vscode-notebook-cell:/c%3A/Users/The%20God%20of%20Cringe/Desktop/Python/Stormlight%20Archive%20Relationships/extract_characters.ipynb#ch0000006?line=16'>17</a>\u001b[0m     aliases_elem \u001b[39m=\u001b[39m find_elem(driver, By\u001b[39m.\u001b[39mXPATH, \u001b[39m'\u001b[39m\u001b[39m//th[text()=\u001b[39m\u001b[39m\"\u001b[39m\u001b[39mAliases\u001b[39m\u001b[39m\"\u001b[39m\u001b[39m]/following-sibling::td\u001b[39m\u001b[39m'\u001b[39m)\n",
      "File \u001b[1;32mf:\\Anaconda\\envs\\ds-env\\lib\\site-packages\\selenium\\webdriver\\remote\\webdriver.py:447\u001b[0m, in \u001b[0;36mWebDriver.get\u001b[1;34m(self, url)\u001b[0m\n\u001b[0;32m    443\u001b[0m \u001b[39mdef\u001b[39;00m \u001b[39mget\u001b[39m(\u001b[39mself\u001b[39m, url: \u001b[39mstr\u001b[39m) \u001b[39m-\u001b[39m\u001b[39m>\u001b[39m \u001b[39mNone\u001b[39;00m:\n\u001b[0;32m    444\u001b[0m     \u001b[39m\"\"\"\u001b[39;00m\n\u001b[0;32m    445\u001b[0m \u001b[39m    Loads a web page in the current browser session.\u001b[39;00m\n\u001b[0;32m    446\u001b[0m \u001b[39m    \"\"\"\u001b[39;00m\n\u001b[1;32m--> 447\u001b[0m     \u001b[39mself\u001b[39;49m\u001b[39m.\u001b[39;49mexecute(Command\u001b[39m.\u001b[39;49mGET, {\u001b[39m'\u001b[39;49m\u001b[39murl\u001b[39;49m\u001b[39m'\u001b[39;49m: url})\n",
      "File \u001b[1;32mf:\\Anaconda\\envs\\ds-env\\lib\\site-packages\\selenium\\webdriver\\remote\\webdriver.py:435\u001b[0m, in \u001b[0;36mWebDriver.execute\u001b[1;34m(self, driver_command, params)\u001b[0m\n\u001b[0;32m    433\u001b[0m response \u001b[39m=\u001b[39m \u001b[39mself\u001b[39m\u001b[39m.\u001b[39mcommand_executor\u001b[39m.\u001b[39mexecute(driver_command, params)\n\u001b[0;32m    434\u001b[0m \u001b[39mif\u001b[39;00m response:\n\u001b[1;32m--> 435\u001b[0m     \u001b[39mself\u001b[39;49m\u001b[39m.\u001b[39;49merror_handler\u001b[39m.\u001b[39;49mcheck_response(response)\n\u001b[0;32m    436\u001b[0m     response[\u001b[39m'\u001b[39m\u001b[39mvalue\u001b[39m\u001b[39m'\u001b[39m] \u001b[39m=\u001b[39m \u001b[39mself\u001b[39m\u001b[39m.\u001b[39m_unwrap_value(\n\u001b[0;32m    437\u001b[0m         response\u001b[39m.\u001b[39mget(\u001b[39m'\u001b[39m\u001b[39mvalue\u001b[39m\u001b[39m'\u001b[39m, \u001b[39mNone\u001b[39;00m))\n\u001b[0;32m    438\u001b[0m     \u001b[39mreturn\u001b[39;00m response\n",
      "File \u001b[1;32mf:\\Anaconda\\envs\\ds-env\\lib\\site-packages\\selenium\\webdriver\\remote\\errorhandler.py:247\u001b[0m, in \u001b[0;36mErrorHandler.check_response\u001b[1;34m(self, response)\u001b[0m\n\u001b[0;32m    245\u001b[0m         alert_text \u001b[39m=\u001b[39m value[\u001b[39m'\u001b[39m\u001b[39malert\u001b[39m\u001b[39m'\u001b[39m]\u001b[39m.\u001b[39mget(\u001b[39m'\u001b[39m\u001b[39mtext\u001b[39m\u001b[39m'\u001b[39m)\n\u001b[0;32m    246\u001b[0m     \u001b[39mraise\u001b[39;00m exception_class(message, screen, stacktrace, alert_text)  \u001b[39m# type: ignore[call-arg]  # mypy is not smart enough here\u001b[39;00m\n\u001b[1;32m--> 247\u001b[0m \u001b[39mraise\u001b[39;00m exception_class(message, screen, stacktrace)\n",
      "\u001b[1;31mWebDriverException\u001b[0m: Message: unknown error: cannot determine loading status\nfrom unknown error: unexpected command response\n  (Session info: chrome=103.0.5060.66)\nStacktrace:\nBacktrace:\n\tOrdinal0 [0x00EC6463+2188387]\n\tOrdinal0 [0x00E5E461+1762401]\n\tOrdinal0 [0x00D73D78+802168]\n\tOrdinal0 [0x00D67210+750096]\n\tOrdinal0 [0x00D6675A+747354]\n\tOrdinal0 [0x00D65D3F+744767]\n\tOrdinal0 [0x00D64C28+740392]\n\tOrdinal0 [0x00D65228+741928]\n\tOrdinal0 [0x00D6EF2F+782127]\n\tOrdinal0 [0x00D79FBB+827323]\n\tOrdinal0 [0x00D7D310+840464]\n\tOrdinal0 [0x00D654F6+742646]\n\tOrdinal0 [0x00D79BF3+826355]\n\tOrdinal0 [0x00DCCF6D+1167213]\n\tOrdinal0 [0x00DBC5F6+1099254]\n\tOrdinal0 [0x00D96BE0+945120]\n\tOrdinal0 [0x00D97AD6+948950]\n\tGetHandleVerifier [0x011671F2+2712546]\n\tGetHandleVerifier [0x0115886D+2652765]\n\tGetHandleVerifier [0x00F5002A+520730]\n\tGetHandleVerifier [0x00F4EE06+516086]\n\tOrdinal0 [0x00E6468B+1787531]\n\tOrdinal0 [0x00E68E88+1805960]\n\tOrdinal0 [0x00E68F75+1806197]\n\tOrdinal0 [0x00E71DF1+1842673]\n\tBaseThreadInitThunk [0x76047BA9+25]\n\tRtlInitializeExceptionChain [0x7705B7DB+107]\n\tRtlClearBits [0x7705B75F+191]\n"
     ]
    }
   ],
   "source": [
    "character_list = []\n",
    "next_button = driver.find_element(By.CLASS_NAME, 'category-page__pagination-next')\n",
    "\n",
    "print(next_button)\n",
    "while next_button is not None:\n",
    "    character_elems = driver.find_elements(By.CLASS_NAME, 'category-page__member-link')\n",
    "    character_names = [elem.text for elem in character_elems]\n",
    "    urls = [elem.get_attribute('href') for elem in character_elems]\n",
    "\n",
    "    for i, url in enumerate(urls):\n",
    "        print(character_names[i], url)\n",
    "        if not 'category' in character_names[i]:\n",
    "            time.sleep(2)\n",
    "            driver.get(url)\n",
    "            time.sleep(2)\n",
    "\n",
    "            aliases_elem = find_elem(driver, By.XPATH, '//th[text()=\"Aliases\"]/following-sibling::td')\n",
    "\n",
    "            if aliases_elem is not None:\n",
    "                print(aliases_elem.text)\n",
    "            \n",
    "            character_list.append({'character': character_names[i]})\n",
    "        \n",
    "    page_url = 'https://stormlightarchive.fandom.com/wiki/Category:Characters'\n",
    "    driver.get(page_url)\n",
    "\n",
    "    # Go to the next page [A-Z]\n",
    "    try:\n",
    "        next_button = driver.find_element(By.CLASS_NAME, 'category-page__pagination-next')\n",
    "        click_elem(next_button)\n",
    "    except NoSuchElementException:\n",
    "        next_button = None\n",
    "        pass\n",
    "\n",
    " \n",
    "\n",
    "df = pd.DataFrame(character_list)\n",
    "df.head(10)"
   ]
  },
  {
   "cell_type": "code",
   "execution_count": null,
   "metadata": {},
   "outputs": [],
   "source": [
    "df.to_csv('stormlight_characters_raw.csv', index=False)"
   ]
  },
  {
   "cell_type": "markdown",
   "metadata": {},
   "source": [
    "## Preprocess characters"
   ]
  },
  {
   "cell_type": "code",
   "execution_count": null,
   "metadata": {},
   "outputs": [],
   "source": [
    "import re\n",
    "\n",
    "df = pd.read_csv('stormlight_characters_raw.csv')\n",
    "\n",
    "df['character'] = df['character'].apply(lambda x: re.sub('[\\()].*?[\\)]', '', x))\n",
    "df['character_main_name'] = df['character'].apply(lambda x: x.split(' ', 1)[0])\n",
    "\n",
    "\n",
    "df = df.drop_duplicates()\n",
    "df = df.sort_values(by=['character'])\n",
    "df = df.reset_index(drop=True)\n",
    "\n",
    "\n",
    "# Fix names manually in excel\n",
    "df.to_csv('stormlight_characters.csv', index=False)\n"
   ]
  },
  {
   "cell_type": "code",
   "execution_count": null,
   "metadata": {},
   "outputs": [
    {
     "name": "stdout",
     "output_type": "stream",
     "text": [
      "\n"
     ]
    },
    {
     "name": "stderr",
     "output_type": "stream",
     "text": [
      "[WDM] - ====== WebDriver manager ======\n",
      "[WDM] - Current google-chrome version is 103.0.5060\n",
      "[WDM] - Get LATEST chromedriver version for 103.0.5060 google-chrome\n",
      "[WDM] - Driver [C:\\Users\\The God of Cringe\\.wdm\\drivers\\chromedriver\\win32\\103.0.5060.53\\chromedriver.exe] found in cache\n",
      "C:\\Users\\The God of Cringe\\AppData\\Local\\Temp\\ipykernel_8656\\1349161325.py:1: DeprecationWarning: executable_path has been deprecated, please pass in a Service object\n",
      "  driver = webdriver.Chrome(ChromeDriverManager().install())\n"
     ]
    },
    {
     "name": "stdout",
     "output_type": "stream",
     "text": [
      "Veil, Radiant, Swiftspren, Kishi\n"
     ]
    }
   ],
   "source": [
    "driver = webdriver.Chrome(ChromeDriverManager().install())\n",
    "page_url = 'https://stormlightarchive.fandom.com/wiki/Shallan_Davar'\n",
    "driver.get(page_url)\n",
    "\n",
    "accept_button = driver.find_element(By.XPATH, '//div[text()=\"ACCEPT\"]')\n",
    "click_elem(accept_button)\n",
    "\n",
    "aliases_elem = find_elem(driver, By.XPATH, '//th[text()=\"Aliases\"]/following-sibling::td')\n",
    "print(aliases_elem.text)\n"
   ]
  },
  {
   "cell_type": "code",
   "execution_count": null,
   "metadata": {},
   "outputs": [],
   "source": []
  }
 ],
 "metadata": {
  "interpreter": {
   "hash": "ccabb46a232a5878a3713e67ddcf7410de3728439dd5ba66715545892a624438"
  },
  "kernelspec": {
   "display_name": "Python 3.10.0 ('ds-env')",
   "language": "python",
   "name": "python3"
  },
  "language_info": {
   "codemirror_mode": {
    "name": "ipython",
    "version": 3
   },
   "file_extension": ".py",
   "mimetype": "text/x-python",
   "name": "python",
   "nbconvert_exporter": "python",
   "pygments_lexer": "ipython3",
   "version": "3.10.0"
  },
  "orig_nbformat": 4
 },
 "nbformat": 4,
 "nbformat_minor": 2
}
